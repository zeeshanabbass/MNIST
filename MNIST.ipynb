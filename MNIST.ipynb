{
 "cells": [
  {
   "cell_type": "code",
   "execution_count": 2,
   "id": "6fb2575e",
   "metadata": {},
   "outputs": [],
   "source": [
    "import numpy as np\n",
    "import pandas as pd\n",
    "from matplotlib import pyplot as plt"
   ]
  },
  {
   "cell_type": "code",
   "execution_count": 7,
   "id": "41265a6a",
   "metadata": {},
   "outputs": [],
   "source": [
    "mnist = pd.read_csv(r'C:\\Users\\ZEESHAAN\\Downloads\\mnist\\mnist_train.csv')\n"
   ]
  },
  {
   "cell_type": "code",
   "execution_count": 8,
   "id": "a7e254bd",
   "metadata": {},
   "outputs": [
    {
     "data": {
      "text/html": [
       "<div>\n",
       "<style scoped>\n",
       "    .dataframe tbody tr th:only-of-type {\n",
       "        vertical-align: middle;\n",
       "    }\n",
       "\n",
       "    .dataframe tbody tr th {\n",
       "        vertical-align: top;\n",
       "    }\n",
       "\n",
       "    .dataframe thead th {\n",
       "        text-align: right;\n",
       "    }\n",
       "</style>\n",
       "<table border=\"1\" class=\"dataframe\">\n",
       "  <thead>\n",
       "    <tr style=\"text-align: right;\">\n",
       "      <th></th>\n",
       "      <th>label</th>\n",
       "      <th>1x1</th>\n",
       "      <th>1x2</th>\n",
       "      <th>1x3</th>\n",
       "      <th>1x4</th>\n",
       "      <th>1x5</th>\n",
       "      <th>1x6</th>\n",
       "      <th>1x7</th>\n",
       "      <th>1x8</th>\n",
       "      <th>1x9</th>\n",
       "      <th>...</th>\n",
       "      <th>28x19</th>\n",
       "      <th>28x20</th>\n",
       "      <th>28x21</th>\n",
       "      <th>28x22</th>\n",
       "      <th>28x23</th>\n",
       "      <th>28x24</th>\n",
       "      <th>28x25</th>\n",
       "      <th>28x26</th>\n",
       "      <th>28x27</th>\n",
       "      <th>28x28</th>\n",
       "    </tr>\n",
       "  </thead>\n",
       "  <tbody>\n",
       "    <tr>\n",
       "      <th>0</th>\n",
       "      <td>5</td>\n",
       "      <td>0</td>\n",
       "      <td>0</td>\n",
       "      <td>0</td>\n",
       "      <td>0</td>\n",
       "      <td>0</td>\n",
       "      <td>0</td>\n",
       "      <td>0</td>\n",
       "      <td>0</td>\n",
       "      <td>0</td>\n",
       "      <td>...</td>\n",
       "      <td>0</td>\n",
       "      <td>0</td>\n",
       "      <td>0</td>\n",
       "      <td>0</td>\n",
       "      <td>0</td>\n",
       "      <td>0</td>\n",
       "      <td>0</td>\n",
       "      <td>0</td>\n",
       "      <td>0</td>\n",
       "      <td>0</td>\n",
       "    </tr>\n",
       "    <tr>\n",
       "      <th>1</th>\n",
       "      <td>0</td>\n",
       "      <td>0</td>\n",
       "      <td>0</td>\n",
       "      <td>0</td>\n",
       "      <td>0</td>\n",
       "      <td>0</td>\n",
       "      <td>0</td>\n",
       "      <td>0</td>\n",
       "      <td>0</td>\n",
       "      <td>0</td>\n",
       "      <td>...</td>\n",
       "      <td>0</td>\n",
       "      <td>0</td>\n",
       "      <td>0</td>\n",
       "      <td>0</td>\n",
       "      <td>0</td>\n",
       "      <td>0</td>\n",
       "      <td>0</td>\n",
       "      <td>0</td>\n",
       "      <td>0</td>\n",
       "      <td>0</td>\n",
       "    </tr>\n",
       "    <tr>\n",
       "      <th>2</th>\n",
       "      <td>4</td>\n",
       "      <td>0</td>\n",
       "      <td>0</td>\n",
       "      <td>0</td>\n",
       "      <td>0</td>\n",
       "      <td>0</td>\n",
       "      <td>0</td>\n",
       "      <td>0</td>\n",
       "      <td>0</td>\n",
       "      <td>0</td>\n",
       "      <td>...</td>\n",
       "      <td>0</td>\n",
       "      <td>0</td>\n",
       "      <td>0</td>\n",
       "      <td>0</td>\n",
       "      <td>0</td>\n",
       "      <td>0</td>\n",
       "      <td>0</td>\n",
       "      <td>0</td>\n",
       "      <td>0</td>\n",
       "      <td>0</td>\n",
       "    </tr>\n",
       "    <tr>\n",
       "      <th>3</th>\n",
       "      <td>1</td>\n",
       "      <td>0</td>\n",
       "      <td>0</td>\n",
       "      <td>0</td>\n",
       "      <td>0</td>\n",
       "      <td>0</td>\n",
       "      <td>0</td>\n",
       "      <td>0</td>\n",
       "      <td>0</td>\n",
       "      <td>0</td>\n",
       "      <td>...</td>\n",
       "      <td>0</td>\n",
       "      <td>0</td>\n",
       "      <td>0</td>\n",
       "      <td>0</td>\n",
       "      <td>0</td>\n",
       "      <td>0</td>\n",
       "      <td>0</td>\n",
       "      <td>0</td>\n",
       "      <td>0</td>\n",
       "      <td>0</td>\n",
       "    </tr>\n",
       "    <tr>\n",
       "      <th>4</th>\n",
       "      <td>9</td>\n",
       "      <td>0</td>\n",
       "      <td>0</td>\n",
       "      <td>0</td>\n",
       "      <td>0</td>\n",
       "      <td>0</td>\n",
       "      <td>0</td>\n",
       "      <td>0</td>\n",
       "      <td>0</td>\n",
       "      <td>0</td>\n",
       "      <td>...</td>\n",
       "      <td>0</td>\n",
       "      <td>0</td>\n",
       "      <td>0</td>\n",
       "      <td>0</td>\n",
       "      <td>0</td>\n",
       "      <td>0</td>\n",
       "      <td>0</td>\n",
       "      <td>0</td>\n",
       "      <td>0</td>\n",
       "      <td>0</td>\n",
       "    </tr>\n",
       "  </tbody>\n",
       "</table>\n",
       "<p>5 rows × 785 columns</p>\n",
       "</div>"
      ],
      "text/plain": [
       "   label  1x1  1x2  1x3  1x4  1x5  1x6  1x7  1x8  1x9  ...  28x19  28x20  \\\n",
       "0      5    0    0    0    0    0    0    0    0    0  ...      0      0   \n",
       "1      0    0    0    0    0    0    0    0    0    0  ...      0      0   \n",
       "2      4    0    0    0    0    0    0    0    0    0  ...      0      0   \n",
       "3      1    0    0    0    0    0    0    0    0    0  ...      0      0   \n",
       "4      9    0    0    0    0    0    0    0    0    0  ...      0      0   \n",
       "\n",
       "   28x21  28x22  28x23  28x24  28x25  28x26  28x27  28x28  \n",
       "0      0      0      0      0      0      0      0      0  \n",
       "1      0      0      0      0      0      0      0      0  \n",
       "2      0      0      0      0      0      0      0      0  \n",
       "3      0      0      0      0      0      0      0      0  \n",
       "4      0      0      0      0      0      0      0      0  \n",
       "\n",
       "[5 rows x 785 columns]"
      ]
     },
     "execution_count": 8,
     "metadata": {},
     "output_type": "execute_result"
    }
   ],
   "source": [
    "mnist.head(5)"
   ]
  },
  {
   "cell_type": "code",
   "execution_count": 9,
   "id": "e5f2fccf",
   "metadata": {},
   "outputs": [
    {
     "data": {
      "text/plain": [
       "(60000, 785)"
      ]
     },
     "execution_count": 9,
     "metadata": {},
     "output_type": "execute_result"
    }
   ],
   "source": [
    "mnist.shape"
   ]
  },
  {
   "cell_type": "code",
   "execution_count": 15,
   "id": "7bd2ab86",
   "metadata": {},
   "outputs": [],
   "source": [
    "data = np.array(mnist)\n",
    "m, n = data.shape\n",
    "np.random.shuffle(data)"
   ]
  },
  {
   "cell_type": "code",
   "execution_count": 16,
   "id": "bbb93298",
   "metadata": {},
   "outputs": [],
   "source": [
    "data_dev = data[0:1000].T\n",
    "Y_dev = data_dev[0]\n",
    "X_dev = data_dev[1:n]\n",
    "X_dev = X_dev / 255.\n",
    "\n",
    "data_train = data[1000:m].T\n",
    "Y_train = data_train[0]\n",
    "X_train = data_train[1:n]\n",
    "X_train = X_train / 255.\n",
    "_,m_train = X_train.shape"
   ]
  },
  {
   "cell_type": "code",
   "execution_count": 17,
   "id": "018d3e7f",
   "metadata": {},
   "outputs": [
    {
     "data": {
      "text/plain": [
       "array([1, 4, 7, ..., 3, 8, 0], dtype=int64)"
      ]
     },
     "execution_count": 17,
     "metadata": {},
     "output_type": "execute_result"
    }
   ],
   "source": [
    "Y_train"
   ]
  },
  {
   "cell_type": "code",
   "execution_count": 18,
   "id": "5d431d7b",
   "metadata": {},
   "outputs": [],
   "source": [
    "def init_params():\n",
    "    W1 = np.random.rand(10, 784) - 0.5\n",
    "    b1 = np.random.rand(10, 1) - 0.5\n",
    "    W2 = np.random.rand(10, 10) - 0.5\n",
    "    b2 = np.random.rand(10, 1) - 0.5\n",
    "    return W1, b1, W2, b2"
   ]
  },
  {
   "cell_type": "code",
   "execution_count": 19,
   "id": "a20432b2",
   "metadata": {},
   "outputs": [],
   "source": [
    "def ReLU(Z):\n",
    "    return np.maximum(Z, 0)\n",
    "\n",
    "def softmax(Z):\n",
    "    A = np.exp(Z) / sum(np.exp(Z))\n",
    "    return A"
   ]
  },
  {
   "cell_type": "code",
   "execution_count": 20,
   "id": "1c9a798e",
   "metadata": {},
   "outputs": [],
   "source": [
    "def ReLU(Z):\n",
    "    return np.maximum(Z, 0)\n",
    "\n",
    "def softmax(Z):\n",
    "    A = np.exp(Z) / sum(np.exp(Z))\n",
    "    return A"
   ]
  },
  {
   "cell_type": "code",
   "execution_count": 21,
   "id": "f0bd6f5e",
   "metadata": {},
   "outputs": [],
   "source": [
    "def forward_prop(W1, b1, W2, b2, X):\n",
    "    Z1 = W1.dot(X) + b1\n",
    "    A1 = ReLU(Z1)\n",
    "    Z2 = W2.dot(A1) + b2\n",
    "    A2 = softmax(Z2)\n",
    "    return Z1, A1, Z2, A2\n",
    "\n",
    "def ReLU_deriv(Z):\n",
    "    return Z > 0"
   ]
  },
  {
   "cell_type": "code",
   "execution_count": 22,
   "id": "ab9d7939",
   "metadata": {},
   "outputs": [],
   "source": [
    "def one_hot(Y):\n",
    "    one_hot_Y = np.zeros((Y.size, Y.max() + 1))\n",
    "    one_hot_Y[np.arange(Y.size), Y] = 1\n",
    "    one_hot_Y = one_hot_Y.T\n",
    "    return one_hot_Y\n",
    "\n",
    "def backward_prop(Z1, A1, Z2, A2, W1, W2, X, Y):\n",
    "    one_hot_Y = one_hot(Y)\n",
    "    dZ2 = A2 - one_hot_Y\n",
    "    dW2 = 1 / m * dZ2.dot(A1.T)\n",
    "    db2 = 1 / m * np.sum(dZ2)\n",
    "    dZ1 = W2.T.dot(dZ2) * ReLU_deriv(Z1)\n",
    "    dW1 = 1 / m * dZ1.dot(X.T)\n",
    "    db1 = 1 / m * np.sum(dZ1)\n",
    "    return dW1, db1, dW2, db2"
   ]
  },
  {
   "cell_type": "code",
   "execution_count": 23,
   "id": "14d90f62",
   "metadata": {},
   "outputs": [],
   "source": [
    "def update_params(W1, b1, W2, b2, dW1, db1, dW2, db2, alpha):\n",
    "    W1 = W1 - alpha * dW1\n",
    "    b1 = b1 - alpha * db1    \n",
    "    W2 = W2 - alpha * dW2  \n",
    "    b2 = b2 - alpha * db2    \n",
    "    return W1, b1, W2, b2\n"
   ]
  },
  {
   "cell_type": "code",
   "execution_count": 24,
   "id": "46765ed6",
   "metadata": {},
   "outputs": [],
   "source": [
    "def get_predictions(A2):\n",
    "    return np.argmax(A2, 0)\n",
    "\n",
    "def get_accuracy(predictions, Y):\n",
    "    print(predictions, Y)\n",
    "    return np.sum(predictions == Y) / Y.size\n",
    "\n",
    "def gradient_descent(X, Y, alpha, iterations):\n",
    "    W1, b1, W2, b2 = init_params()\n",
    "    for i in range(iterations):\n",
    "        Z1, A1, Z2, A2 = forward_prop(W1, b1, W2, b2, X)\n",
    "        dW1, db1, dW2, db2 = backward_prop(Z1, A1, Z2, A2, W1, W2, X, Y)\n",
    "        W1, b1, W2, b2 = update_params(W1, b1, W2, b2, dW1, db1, dW2, db2, alpha)\n",
    "        if i % 10 == 0:\n",
    "            print(\"Iteration: \", i)\n",
    "            predictions = get_predictions(A2)\n",
    "            print(get_accuracy(predictions, Y))\n",
    "    return W1, b1, W2, b2"
   ]
  },
  {
   "cell_type": "code",
   "execution_count": 25,
   "id": "18b6ec66",
   "metadata": {},
   "outputs": [
    {
     "name": "stdout",
     "output_type": "stream",
     "text": [
      "Iteration:  0\n",
      "[1 7 9 ... 7 1 1] [1 4 7 ... 3 8 0]\n",
      "0.1441864406779661\n",
      "Iteration:  10\n",
      "[1 7 9 ... 1 1 1] [1 4 7 ... 3 8 0]\n",
      "0.24410169491525424\n",
      "Iteration:  20\n",
      "[1 9 9 ... 8 1 1] [1 4 7 ... 3 8 0]\n",
      "0.3298305084745763\n",
      "Iteration:  30\n",
      "[1 9 9 ... 3 1 0] [1 4 7 ... 3 8 0]\n",
      "0.3868135593220339\n",
      "Iteration:  40\n",
      "[1 9 9 ... 3 8 0] [1 4 7 ... 3 8 0]\n",
      "0.4444745762711864\n",
      "Iteration:  50\n",
      "[1 7 9 ... 3 8 0] [1 4 7 ... 3 8 0]\n",
      "0.49984745762711863\n",
      "Iteration:  60\n",
      "[1 9 9 ... 3 8 0] [1 4 7 ... 3 8 0]\n",
      "0.5447457627118644\n",
      "Iteration:  70\n",
      "[1 9 9 ... 3 8 0] [1 4 7 ... 3 8 0]\n",
      "0.583457627118644\n",
      "Iteration:  80\n",
      "[1 9 9 ... 3 8 0] [1 4 7 ... 3 8 0]\n",
      "0.6142542372881356\n",
      "Iteration:  90\n",
      "[1 9 9 ... 3 8 0] [1 4 7 ... 3 8 0]\n",
      "0.6376610169491526\n",
      "Iteration:  100\n",
      "[1 9 9 ... 3 8 0] [1 4 7 ... 3 8 0]\n",
      "0.6579661016949152\n",
      "Iteration:  110\n",
      "[1 9 9 ... 3 8 0] [1 4 7 ... 3 8 0]\n",
      "0.6752033898305084\n",
      "Iteration:  120\n",
      "[1 9 7 ... 3 8 0] [1 4 7 ... 3 8 0]\n",
      "0.6893389830508475\n",
      "Iteration:  130\n",
      "[1 9 7 ... 3 8 0] [1 4 7 ... 3 8 0]\n",
      "0.7033559322033899\n",
      "Iteration:  140\n",
      "[1 9 7 ... 3 8 0] [1 4 7 ... 3 8 0]\n",
      "0.715271186440678\n",
      "Iteration:  150\n",
      "[1 9 7 ... 3 8 0] [1 4 7 ... 3 8 0]\n",
      "0.7252881355932204\n",
      "Iteration:  160\n",
      "[1 9 7 ... 3 8 0] [1 4 7 ... 3 8 0]\n",
      "0.7347627118644068\n",
      "Iteration:  170\n",
      "[1 4 7 ... 3 8 0] [1 4 7 ... 3 8 0]\n",
      "0.7429152542372881\n",
      "Iteration:  180\n",
      "[1 4 7 ... 3 8 0] [1 4 7 ... 3 8 0]\n",
      "0.7496779661016949\n",
      "Iteration:  190\n",
      "[1 4 7 ... 3 8 0] [1 4 7 ... 3 8 0]\n",
      "0.7564237288135593\n",
      "Iteration:  200\n",
      "[1 4 7 ... 3 8 0] [1 4 7 ... 3 8 0]\n",
      "0.7631525423728813\n",
      "Iteration:  210\n",
      "[1 4 7 ... 3 8 0] [1 4 7 ... 3 8 0]\n",
      "0.7687457627118645\n",
      "Iteration:  220\n",
      "[1 4 7 ... 3 8 0] [1 4 7 ... 3 8 0]\n",
      "0.7747796610169492\n",
      "Iteration:  230\n",
      "[1 4 7 ... 3 8 0] [1 4 7 ... 3 8 0]\n",
      "0.7798983050847458\n",
      "Iteration:  240\n",
      "[1 4 7 ... 3 8 0] [1 4 7 ... 3 8 0]\n",
      "0.7847796610169492\n",
      "Iteration:  250\n",
      "[1 4 7 ... 3 8 0] [1 4 7 ... 3 8 0]\n",
      "0.7897627118644068\n",
      "Iteration:  260\n",
      "[1 4 7 ... 3 8 0] [1 4 7 ... 3 8 0]\n",
      "0.794542372881356\n",
      "Iteration:  270\n",
      "[1 4 7 ... 3 8 0] [1 4 7 ... 3 8 0]\n",
      "0.798864406779661\n",
      "Iteration:  280\n",
      "[1 4 7 ... 3 8 0] [1 4 7 ... 3 8 0]\n",
      "0.8031864406779661\n",
      "Iteration:  290\n",
      "[1 4 7 ... 3 8 0] [1 4 7 ... 3 8 0]\n",
      "0.8069152542372882\n",
      "Iteration:  300\n",
      "[1 4 7 ... 3 8 0] [1 4 7 ... 3 8 0]\n",
      "0.8103728813559322\n",
      "Iteration:  310\n",
      "[1 4 7 ... 3 8 0] [1 4 7 ... 3 8 0]\n",
      "0.814\n",
      "Iteration:  320\n",
      "[1 4 7 ... 3 8 0] [1 4 7 ... 3 8 0]\n",
      "0.8172542372881356\n",
      "Iteration:  330\n",
      "[1 4 7 ... 3 8 0] [1 4 7 ... 3 8 0]\n",
      "0.8204406779661017\n",
      "Iteration:  340\n",
      "[1 4 7 ... 3 8 0] [1 4 7 ... 3 8 0]\n",
      "0.823\n",
      "Iteration:  350\n",
      "[1 4 7 ... 3 8 0] [1 4 7 ... 3 8 0]\n",
      "0.8258983050847457\n",
      "Iteration:  360\n",
      "[1 4 7 ... 3 8 0] [1 4 7 ... 3 8 0]\n",
      "0.8283050847457627\n",
      "Iteration:  370\n",
      "[1 4 7 ... 3 8 0] [1 4 7 ... 3 8 0]\n",
      "0.8308135593220339\n",
      "Iteration:  380\n",
      "[1 4 7 ... 3 8 0] [1 4 7 ... 3 8 0]\n",
      "0.8329830508474576\n",
      "Iteration:  390\n",
      "[1 4 7 ... 3 8 0] [1 4 7 ... 3 8 0]\n",
      "0.8350677966101695\n",
      "Iteration:  400\n",
      "[1 4 7 ... 3 8 0] [1 4 7 ... 3 8 0]\n",
      "0.8373220338983051\n",
      "Iteration:  410\n",
      "[1 4 7 ... 3 8 0] [1 4 7 ... 3 8 0]\n",
      "0.8393559322033898\n",
      "Iteration:  420\n",
      "[1 4 7 ... 3 8 0] [1 4 7 ... 3 8 0]\n",
      "0.8412033898305085\n",
      "Iteration:  430\n",
      "[1 4 7 ... 3 8 0] [1 4 7 ... 3 8 0]\n",
      "0.842728813559322\n",
      "Iteration:  440\n",
      "[1 4 7 ... 3 8 0] [1 4 7 ... 3 8 0]\n",
      "0.8444237288135593\n",
      "Iteration:  450\n",
      "[1 4 7 ... 3 8 0] [1 4 7 ... 3 8 0]\n",
      "0.8457627118644068\n",
      "Iteration:  460\n",
      "[1 4 7 ... 3 8 0] [1 4 7 ... 3 8 0]\n",
      "0.8475762711864406\n",
      "Iteration:  470\n",
      "[1 4 7 ... 3 8 0] [1 4 7 ... 3 8 0]\n",
      "0.8490338983050848\n",
      "Iteration:  480\n",
      "[1 4 7 ... 3 8 0] [1 4 7 ... 3 8 0]\n",
      "0.8502542372881355\n",
      "Iteration:  490\n",
      "[1 4 7 ... 3 8 0] [1 4 7 ... 3 8 0]\n",
      "0.8517118644067797\n"
     ]
    }
   ],
   "source": [
    "W1, b1, W2, b2 = gradient_descent(X_train, Y_train, 0.10, 500)"
   ]
  },
  {
   "cell_type": "code",
   "execution_count": 26,
   "id": "82852749",
   "metadata": {},
   "outputs": [],
   "source": [
    "def make_predictions(X, W1, b1, W2, b2):\n",
    "    _, _, _, A2 = forward_prop(W1, b1, W2, b2, X)\n",
    "    predictions = get_predictions(A2)\n",
    "    return predictions\n",
    "\n",
    "def test_prediction(index, W1, b1, W2, b2):\n",
    "    current_image = X_train[:, index, None]\n",
    "    prediction = make_predictions(X_train[:, index, None], W1, b1, W2, b2)\n",
    "    label = Y_train[index]\n",
    "    print(\"Prediction: \", prediction)\n",
    "    print(\"Label: \", label)\n",
    "    \n",
    "    current_image = current_image.reshape((28, 28)) * 255\n",
    "    plt.gray()\n",
    "    plt.imshow(current_image, interpolation='nearest')\n",
    "    plt.show()"
   ]
  },
  {
   "cell_type": "code",
   "execution_count": 29,
   "id": "f9294a69",
   "metadata": {},
   "outputs": [
    {
     "name": "stdout",
     "output_type": "stream",
     "text": [
      "Prediction:  [1]\n",
      "Label:  1\n"
     ]
    },
    {
     "data": {
      "image/png": "[encoded data removed]",
      "text/plain": [
       "<Figure size 640x480 with 1 Axes>"
      ]
     },
     "metadata": {},
     "output_type": "display_data"
    }
   ],
   "source": [
    "test_prediction(0, W1, b1, W2, b2)"
   ]
  },
  {
   "cell_type": "code",
   "execution_count": 30,
   "id": "a75e60ac",
   "metadata": {},
   "outputs": [
    {
     "name": "stdout",
     "output_type": "stream",
     "text": [
      "Prediction:  [5]\n",
      "Label:  6\n"
     ]
    },
    {
     "data": {
      "image/png": "[encoded data removed]",
      "text/plain": [
       "<Figure size 640x480 with 1 Axes>"
      ]
     },
     "metadata": {},
     "output_type": "display_data"
    }
   ],
   "source": [
    "test_prediction(6, W1, b1, W2, b2)"
   ]
  },
  {
   "cell_type": "code",
   "execution_count": 32,
   "id": "a1114cd7",
   "metadata": {},
   "outputs": [
    {
     "name": "stdout",
     "output_type": "stream",
     "text": [
      "Prediction:  [9]\n",
      "Label:  9\n"
     ]
    },
    {
     "data": {
      "image/png": "[encoded data removed]",
      "text/plain": [
       "<Figure size 640x480 with 1 Axes>"
      ]
     },
     "metadata": {},
     "output_type": "display_data"
    }
   ],
   "source": [
    "test_prediction(8, W1, b1, W2, b2)\n"
   ]
  },
  {
   "cell_type": "code",
   "execution_count": 33,
   "id": "31b51dcf",
   "metadata": {},
   "outputs": [
    {
     "name": "stdout",
     "output_type": "stream",
     "text": [
      "[3 8 3 6 8 5 2 7 6 8 4 9 7 1 1 6 4 5 4 7 2 1 7 5 4 1 9 5 6 4 1 5 9 8 1 1 8\n",
      " 5 6 9 0 2 6 3 8 7 2 7 3 6 6 0 0 2 5 0 7 3 1 5 4 7 3 0 0 2 5 3 4 5 9 1 8 1\n",
      " 6 0 8 2 2 7 7 5 1 8 6 2 6 8 4 5 4 4 0 2 5 0 6 5 5 9 2 6 0 4 6 0 8 7 7 5 9\n",
      " 0 2 8 7 6 5 3 1 0 3 7 5 4 4 9 1 7 9 1 7 0 0 4 5 3 1 2 8 1 9 6 3 7 5 2 4 0\n",
      " 3 8 3 0 0 7 7 2 4 6 5 6 5 1 2 8 8 8 5 2 2 8 5 5 7 1 9 0 1 9 7 0 8 2 6 0 2\n",
      " 7 1 6 1 7 8 6 9 1 8 5 0 4 0 3 9 4 2 9 8 8 3 6 9 7 3 1 9 2 1 9 0 7 2 5 5 0\n",
      " 1 3 8 8 3 3 3 8 9 6 7 8 0 5 7 7 2 5 2 6 0 4 4 2 8 0 2 9 2 1 5 8 5 5 6 2 9\n",
      " 6 1 3 0 2 0 3 2 8 7 3 0 3 7 9 2 4 2 6 8 7 7 7 7 1 9 3 2 1 3 6 3 5 9 8 8 6\n",
      " 1 6 3 6 0 2 2 6 4 1 1 1 2 2 5 0 0 6 7 8 9 2 5 4 4 2 9 1 8 7 7 7 6 8 6 3 8\n",
      " 7 8 8 9 0 7 8 2 3 3 7 2 4 8 9 0 7 1 0 1 0 9 9 4 2 1 4 2 6 9 2 4 7 1 1 4 7\n",
      " 3 8 4 6 1 4 1 0 2 7 3 7 5 4 0 6 6 2 3 6 1 2 9 0 7 8 2 2 1 3 1 6 1 6 2 6 1\n",
      " 3 9 5 0 2 7 2 8 0 9 6 7 8 4 4 2 3 8 7 4 4 9 2 6 9 8 0 8 0 2 7 7 5 2 9 8 1\n",
      " 6 6 6 8 3 3 2 9 1 2 2 0 0 0 2 6 5 0 5 1 4 0 7 0 1 9 4 1 1 6 8 3 4 7 8 7 5\n",
      " 3 7 9 4 8 5 7 8 2 0 8 2 7 3 7 2 9 8 7 1 0 6 3 7 5 0 5 2 2 3 3 9 9 0 9 1 1\n",
      " 7 3 7 1 9 0 5 7 6 1 2 7 3 0 1 0 7 1 1 4 9 4 4 7 9 6 8 7 9 6 1 7 2 5 5 0 1\n",
      " 3 9 8 7 5 0 9 1 5 9 5 1 7 6 9 8 0 5 3 5 0 7 2 3 7 0 2 0 3 1 2 6 3 7 4 6 7\n",
      " 5 1 8 7 5 8 1 1 4 8 1 9 8 1 7 4 8 6 8 4 0 6 1 6 5 8 6 3 5 6 5 7 8 2 2 7 3\n",
      " 0 3 3 0 1 6 4 8 6 0 9 1 2 3 8 9 6 3 0 6 3 9 7 6 9 0 9 9 2 0 9 8 0 7 1 5 1\n",
      " 3 1 6 7 7 1 8 4 6 7 0 7 1 8 8 4 3 0 4 1 1 6 7 4 9 4 3 0 1 1 2 0 4 4 3 8 7\n",
      " 3 7 3 1 8 3 9 7 4 1 3 2 1 2 4 1 2 8 0 3 7 1 4 1 1 7 4 6 2 0 1 2 2 4 2 1 8\n",
      " 5 8 6 5 1 4 8 5 1 8 8 5 8 0 1 7 8 0 5 8 7 9 8 4 8 5 7 4 4 7 6 1 1 9 6 6 7\n",
      " 8 5 0 3 1 4 1 7 3 5 7 1 2 1 8 6 0 9 8 5 0 3 0 4 1 4 1 4 4 7 3 1 0 4 4 5 7\n",
      " 5 2 0 9 6 8 2 8 9 2 0 2 1 0 0 5 8 8 0 0 6 1 9 9 2 5 1 0 3 4 1 6 8 6 0 4 2\n",
      " 6 6 6 8 5 1 4 9 8 3 0 1 9 1 6 7 6 0 1 8 0 4 9 7 9 2 6 7 1 3 1 8 2 7 0 6 4\n",
      " 7 7 2 5 6 3 2 0 2 4 3 3 6 3 6 7 0 8 8 9 5 7 2 6 4 2 8 6 1 9 4 3 2 0 9 2 4\n",
      " 8 2 7 8 8 1 4 8 5 2 5 6 1 4 3 9 7 5 7 3 9 3 1 4 4 1 0 0 7 8 6 8 6 2 1 8 9\n",
      " 8 7 3 3 2 0 4 5 3 0 4 1 9 3 0 4 8 6 8 8 0 0 8 4 6 6 2 9 6 6 3 7 5 1 6 3 5\n",
      " 2] [3 8 3 5 8 5 2 7 6 1 4 4 7 1 1 6 4 5 4 7 2 1 2 5 4 1 9 5 6 4 2 5 9 8 1 1 5\n",
      " 5 6 9 0 2 6 3 8 7 2 9 3 6 6 0 0 2 5 0 7 3 1 5 4 7 3 0 0 6 5 3 4 5 9 1 8 1\n",
      " 6 0 8 3 2 7 7 5 1 2 6 2 6 8 4 5 4 4 0 3 5 0 6 4 5 3 2 6 0 4 6 0 8 7 7 3 9\n",
      " 0 2 2 7 6 5 3 1 0 3 7 5 4 4 8 1 7 9 1 7 5 2 4 5 3 1 2 2 1 9 6 1 7 5 2 4 0\n",
      " 2 8 3 0 0 7 7 2 4 6 5 6 5 1 2 8 2 7 5 2 6 8 5 5 7 9 9 0 1 9 7 0 8 2 6 0 2\n",
      " 7 1 4 1 7 8 6 7 1 2 5 0 9 0 3 9 4 8 9 8 8 3 6 9 7 0 8 9 2 1 4 0 7 2 5 5 0\n",
      " 8 5 8 1 3 3 3 1 9 6 7 8 0 5 7 7 8 5 2 6 0 4 4 2 5 0 2 9 2 1 5 8 5 5 6 5 9\n",
      " 2 1 3 0 2 0 3 2 8 7 3 0 3 7 9 2 4 2 6 8 7 7 7 7 7 9 5 2 1 8 6 3 3 9 8 8 4\n",
      " 1 1 3 6 0 2 2 6 4 1 1 1 2 2 5 0 0 6 7 8 9 2 5 4 4 2 9 1 8 9 7 7 6 8 6 5 8\n",
      " 7 4 8 9 0 7 8 2 3 3 7 2 4 8 9 0 7 1 0 1 0 9 9 9 2 1 4 3 6 9 2 9 7 1 1 4 7\n",
      " 3 7 4 6 1 4 1 0 2 7 2 7 8 4 0 6 6 2 3 6 1 2 8 0 7 8 3 2 1 3 1 6 1 6 2 6 1\n",
      " 3 9 5 0 9 7 2 8 0 4 6 7 8 8 4 2 3 9 8 4 4 9 7 6 9 9 0 8 0 2 7 7 5 3 9 8 1\n",
      " 6 6 6 8 3 3 2 9 1 2 2 0 0 0 2 6 5 0 5 1 4 0 7 0 1 9 4 1 1 6 3 3 4 7 5 9 5\n",
      " 3 7 9 4 8 6 7 8 2 0 8 2 7 3 7 2 9 8 7 1 8 6 3 7 5 0 5 2 2 3 3 9 7 0 9 1 1\n",
      " 7 3 7 1 9 0 5 7 0 1 2 7 3 0 1 0 7 1 1 4 9 4 9 7 9 6 8 7 9 6 1 7 2 1 5 0 1\n",
      " 3 9 8 7 5 0 9 1 5 9 3 1 7 6 9 2 0 5 3 5 0 7 2 3 7 0 2 0 3 1 2 6 3 7 9 6 7\n",
      " 5 1 8 7 5 5 1 1 4 2 1 9 8 8 7 4 8 6 8 4 0 6 1 6 0 8 6 3 5 6 3 7 8 2 2 7 3\n",
      " 0 3 3 0 1 6 4 8 6 0 9 1 2 3 8 9 6 3 0 5 3 9 7 6 4 0 9 9 2 0 9 5 0 7 7 5 1\n",
      " 3 1 6 7 7 1 8 4 6 7 0 7 1 8 8 4 3 0 4 1 2 2 7 4 4 4 3 5 1 1 2 0 4 9 3 8 7\n",
      " 3 9 3 1 8 3 9 7 4 1 3 2 1 2 4 1 2 8 5 3 7 1 4 1 1 7 4 6 2 0 1 6 2 4 2 1 8\n",
      " 5 8 6 5 8 4 8 3 1 8 8 5 8 0 1 7 8 0 5 8 9 9 8 4 9 5 7 4 4 7 6 1 1 9 6 6 7\n",
      " 8 1 0 3 1 4 1 7 3 5 7 1 2 1 8 6 0 9 8 5 0 3 2 9 1 4 1 4 4 7 3 1 0 4 4 8 7\n",
      " 5 2 9 4 6 8 2 8 9 1 0 5 1 0 0 5 8 3 0 0 6 1 9 9 2 5 1 0 3 4 1 6 8 6 0 4 2\n",
      " 6 6 6 8 5 1 9 9 8 2 0 1 9 1 6 9 6 0 1 8 7 4 9 7 9 9 6 7 3 3 4 4 2 7 0 6 4\n",
      " 7 7 2 5 6 2 2 0 2 6 3 3 6 3 8 7 0 1 5 9 5 7 2 6 4 2 8 6 1 9 4 5 2 0 9 9 4\n",
      " 8 2 7 2 9 8 4 3 5 2 5 6 1 4 3 9 7 5 7 3 7 2 1 6 4 1 0 0 7 8 8 8 6 2 5 8 2\n",
      " 8 7 3 3 2 0 4 5 3 0 4 1 9 3 5 4 8 6 8 3 0 0 9 4 6 6 2 9 6 6 9 7 5 2 6 3 5\n",
      " 2]\n"
     ]
    },
    {
     "data": {
      "text/plain": [
       "0.862"
      ]
     },
     "execution_count": 33,
     "metadata": {},
     "output_type": "execute_result"
    }
   ],
   "source": [
    "dev_predictions = make_predictions(X_dev, W1, b1, W2, b2)\n",
    "get_accuracy(dev_predictions, Y_dev)"
   ]
  },
  {
   "cell_type": "code",
   "execution_count": null,
   "id": "a6ccc924",
   "metadata": {},
   "outputs": [],
   "source": []
  }
 ],
 "metadata": {
  "kernelspec": {
   "display_name": "Python 3 (ipykernel)",
   "language": "python",
   "name": "python3"
  },
  "language_info": {
   "codemirror_mode": {
    "name": "ipython",
    "version": 3
   },
   "file_extension": ".py",
   "mimetype": "text/x-python",
   "name": "python",
   "nbconvert_exporter": "python",
   "pygments_lexer": "ipython3",
   "version": "3.9.13"
  }
 },
 "nbformat": 4,
 "nbformat_minor": 5
}
